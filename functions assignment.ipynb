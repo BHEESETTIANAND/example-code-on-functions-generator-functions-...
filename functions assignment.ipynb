{
 "cells": [
  {
   "cell_type": "markdown",
   "id": "52cc07e4",
   "metadata": {},
   "source": [
    "# In python the def keyword is used to create the functions"
   ]
  },
  {
   "cell_type": "code",
   "execution_count": 5,
   "id": "b5c7ceac",
   "metadata": {},
   "outputs": [
    {
     "name": "stdout",
     "output_type": "stream",
     "text": [
      "[1, 2, 3, 4, 5, 6, 7, 8, 9, 10, 11, 12, 13, 14, 15, 16, 17, 18, 19, 20, 21, 22, 23, 24, 25]\n"
     ]
    }
   ],
   "source": [
    "a=list(range(1,26))\n",
    "print(a)"
   ]
  },
  {
   "cell_type": "code",
   "execution_count": null,
   "id": "6c43790d",
   "metadata": {},
   "outputs": [],
   "source": [
    "# returning the odd elements present in the list\n",
    "def odd_num(a):\n",
    "    l=[]\n",
    "    for i in a:\n",
    "        if(a%2!=0):\n",
    "            l.append(i)\n",
    "    return l"
   ]
  },
  {
   "cell_type": "code",
   "execution_count": 7,
   "id": "16b40fa8",
   "metadata": {},
   "outputs": [
    {
     "data": {
      "text/plain": [
       "[1, 3, 5, 7, 9, 11, 13, 15, 17, 19, 21, 23, 25]"
      ]
     },
     "execution_count": 7,
     "metadata": {},
     "output_type": "execute_result"
    }
   ],
   "source": [
    "odd_num(a)"
   ]
  },
  {
   "cell_type": "code",
   "execution_count": null,
   "id": "6e8c1244",
   "metadata": {},
   "outputs": [],
   "source": [
    "\"\"\" The *args used in the functions to allow the functions to accept variable length arguments\n",
    "    this are used when the number of arguments are not known at the beginning\n",
    "    \n",
    "    The **kwargs are used in the functions to allow the functions to accept variable length arguments.\n",
    "    the difference between *args and **kwargs is that **kwargs is used to return the values in the form of key-value pair\"\""
   ]
  },
  {
   "cell_type": "code",
   "execution_count": 9,
   "id": "e4167894",
   "metadata": {},
   "outputs": [],
   "source": [
    "# *args\n",
    "def fun1(*a):\n",
    "    return a"
   ]
  },
  {
   "cell_type": "code",
   "execution_count": 10,
   "id": "de31e460",
   "metadata": {},
   "outputs": [
    {
     "data": {
      "text/plain": [
       "(10, 20, 30)"
      ]
     },
     "execution_count": 10,
     "metadata": {},
     "output_type": "execute_result"
    }
   ],
   "source": [
    "fun1(10,20,30)"
   ]
  },
  {
   "cell_type": "code",
   "execution_count": 11,
   "id": "c2829032",
   "metadata": {},
   "outputs": [
    {
     "data": {
      "text/plain": [
       "(10, 20, 30, 40, 50, 60)"
      ]
     },
     "execution_count": 11,
     "metadata": {},
     "output_type": "execute_result"
    }
   ],
   "source": [
    "fun1(10,20,30,40,50,60)"
   ]
  },
  {
   "cell_type": "code",
   "execution_count": 12,
   "id": "c9bac0f3",
   "metadata": {},
   "outputs": [],
   "source": [
    "# **kwargs\n",
    "def fun2(**kwargs):\n",
    "    return kwargs"
   ]
  },
  {
   "cell_type": "code",
   "execution_count": 13,
   "id": "989f8952",
   "metadata": {},
   "outputs": [
    {
     "data": {
      "text/plain": [
       "{'a': 32, 'b': 12, 'c': [1, 2, 3, 4]}"
      ]
     },
     "execution_count": 13,
     "metadata": {},
     "output_type": "execute_result"
    }
   ],
   "source": [
    "fun2(a=32,b=12,c=[1,2,3,4])"
   ]
  },
  {
   "cell_type": "code",
   "execution_count": null,
   "id": "6375cd4a",
   "metadata": {},
   "outputs": [],
   "source": [
    "\"\"\"The iterator in the python is used to allow for efficient access to elements in a seqence ine at a time\n",
    "    The method used to intialize the iterator is iter() functions\"\"\""
   ]
  },
  {
   "cell_type": "code",
   "execution_count": 21,
   "id": "fd154ebd",
   "metadata": {},
   "outputs": [
    {
     "name": "stdout",
     "output_type": "stream",
     "text": [
      "2\n",
      "4\n",
      "6\n",
      "8\n",
      "10\n"
     ]
    }
   ],
   "source": [
    "x=[2, 4, 6, 8, 10, 12, 14, 16,18, 20]\n",
    "for i in x:\n",
    "    if(x.index(i)<5):\n",
    "        print(i)\n"
   ]
  },
  {
   "cell_type": "code",
   "execution_count": null,
   "id": "5d5f7fad",
   "metadata": {},
   "outputs": [],
   "source": [
    "\"\"\"The generator function is the special type of function that generates a sequence of values.When called ,it returns an iterators\n",
    "    that can be used to iterate over the values in sequence.\n",
    "    Generator functions use the yield statement to return values one at a time ,allowing for efficient and memory saving\n",
    "    processing of large amounts of data\"\"\""
   ]
  },
  {
   "cell_type": "code",
   "execution_count": 23,
   "id": "c80a7992",
   "metadata": {},
   "outputs": [],
   "source": [
    "#example for yield\n",
    "def fib(n):\n",
    "    a,b=0,1\n",
    "    for i in range(n):\n",
    "        yield a\n",
    "        a,b=b,a+b"
   ]
  },
  {
   "cell_type": "code",
   "execution_count": 24,
   "id": "c0bd8c64",
   "metadata": {},
   "outputs": [
    {
     "data": {
      "text/plain": [
       "<generator object fib at 0x000001E06DDFE890>"
      ]
     },
     "execution_count": 24,
     "metadata": {},
     "output_type": "execute_result"
    }
   ],
   "source": [
    "fib(10)"
   ]
  },
  {
   "cell_type": "code",
   "execution_count": 26,
   "id": "89c06b91",
   "metadata": {},
   "outputs": [
    {
     "name": "stdout",
     "output_type": "stream",
     "text": [
      "0\n",
      "1\n",
      "1\n",
      "2\n",
      "3\n",
      "5\n",
      "8\n",
      "13\n",
      "21\n",
      "34\n"
     ]
    }
   ],
   "source": [
    "for i in fib(10):\n",
    "    print(i)"
   ]
  },
  {
   "cell_type": "code",
   "execution_count": null,
   "id": "78bf6a52",
   "metadata": {},
   "outputs": [],
   "source": []
  }
 ],
 "metadata": {
  "kernelspec": {
   "display_name": "Python 3 (ipykernel)",
   "language": "python",
   "name": "python3"
  },
  "language_info": {
   "codemirror_mode": {
    "name": "ipython",
    "version": 3
   },
   "file_extension": ".py",
   "mimetype": "text/x-python",
   "name": "python",
   "nbconvert_exporter": "python",
   "pygments_lexer": "ipython3",
   "version": "3.9.13"
  }
 },
 "nbformat": 4,
 "nbformat_minor": 5
}
